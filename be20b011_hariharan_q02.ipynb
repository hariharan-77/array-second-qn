{
 "cells": [
  {
   "cell_type": "code",
   "execution_count": 8,
   "metadata": {},
   "outputs": [
    {
     "name": "stdout",
     "output_type": "stream",
     "text": [
      "[8, 40, 10, 20]\n"
     ]
    }
   ],
   "source": [
    "array=[5,1,4,2]\n",
    "l=[1]*len(array)\n",
    "for i in range(0,len(array)):\n",
    "    for k in range(0,len(array)):\n",
    "        if k!=i:\n",
    "            l[i]*=array[k]\n",
    "print(l)"
   ]
  }
 ],
 "metadata": {
  "kernelspec": {
   "display_name": "Python 3.10.0 64-bit",
   "language": "python",
   "name": "python3"
  },
  "language_info": {
   "codemirror_mode": {
    "name": "ipython",
    "version": 3
   },
   "file_extension": ".py",
   "mimetype": "text/x-python",
   "name": "python",
   "nbconvert_exporter": "python",
   "pygments_lexer": "ipython3",
   "version": "3.10.0"
  },
  "orig_nbformat": 4,
  "vscode": {
   "interpreter": {
    "hash": "e3a2aeeb23f5c4af0ebd54a6ff8d07e49a5f8ba165b96c0afe9fdc03ee306cbd"
   }
  }
 },
 "nbformat": 4,
 "nbformat_minor": 2
}
